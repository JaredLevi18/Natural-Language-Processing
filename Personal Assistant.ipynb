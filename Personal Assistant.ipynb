{
 "cells": [
  {
   "cell_type": "code",
   "execution_count": 2,
   "id": "f471a95c",
   "metadata": {},
   "outputs": [],
   "source": [
    "import torch\n",
    "import torch.nn.functional as F\n",
    "import matplotlib.pyplot as plt\n",
    "import random\n",
    "%matplotlib inline"
   ]
  },
  {
   "cell_type": "code",
   "execution_count": 3,
   "id": "febb9108",
   "metadata": {},
   "outputs": [
    {
     "data": {
      "text/plain": [
       "[\"Harry Potter and the Sorcerer's Stone\",\n",
       " '',\n",
       " '',\n",
       " 'CHAPTER ONE',\n",
       " '',\n",
       " 'THE BOY WHO LIVED',\n",
       " '',\n",
       " 'Mr. and Mrs. Dursley, of number four, Privet Drive, were proud to say']"
      ]
     },
     "execution_count": 3,
     "metadata": {},
     "output_type": "execute_result"
    }
   ],
   "source": [
    "words = open(\"J. K. Rowling - Harry Potter 1 - Sorcerer's Stone.txt\", \"r\").read().splitlines()\n",
    "words[:8]"
   ]
  },
  {
   "cell_type": "code",
   "execution_count": 5,
   "id": "830fa1cb",
   "metadata": {},
   "outputs": [
    {
     "name": "stdout",
     "output_type": "stream",
     "text": [
      "{1: '\\t', 2: ' ', 3: '!', 4: '\"', 5: \"'\", 6: '(', 7: ')', 8: '*', 9: ',', 10: '-', 0: '.', 12: '0', 13: '1', 14: '2', 15: '3', 16: '4', 17: '5', 18: '6', 19: '7', 20: '8', 21: '9', 22: ':', 23: ';', 24: '?', 25: 'A', 26: 'B', 27: 'C', 28: 'D', 29: 'E', 30: 'F', 31: 'G', 32: 'H', 33: 'I', 34: 'J', 35: 'K', 36: 'L', 37: 'M', 38: 'N', 39: 'O', 40: 'P', 41: 'Q', 42: 'R', 43: 'S', 44: 'T', 45: 'U', 46: 'V', 47: 'W', 48: 'X', 49: 'Y', 50: 'Z', 51: '\\\\', 52: 'a', 53: 'b', 54: 'c', 55: 'd', 56: 'e', 57: 'f', 58: 'g', 59: 'h', 60: 'i', 61: 'j', 62: 'k', 63: 'l', 64: 'm', 65: 'n', 66: 'o', 67: 'p', 68: 'q', 69: 'r', 70: 's', 71: 't', 72: 'u', 73: 'v', 74: 'w', 75: 'x', 76: 'y', 77: 'z', 78: '~'}\n",
      "78\n"
     ]
    }
   ],
   "source": [
    "chars = sorted(list(set(''.join(words))))\n",
    "stoi = {s:i+1 for i, s in enumerate(chars)}\n",
    "stoi['.'] = 0\n",
    "itos = {i:s for s, i in stoi.items()}\n",
    "vocab_size = len(chars)\n",
    "print(itos)\n",
    "print(vocab_size)"
   ]
  },
  {
   "cell_type": "code",
   "execution_count": 15,
   "id": "5411e067",
   "metadata": {},
   "outputs": [
    {
     "name": "stdout",
     "output_type": "stream",
     "text": [
      "torch.Size([353266, 3]) torch.Size([353266])\n",
      "torch.Size([43432, 3]) torch.Size([43432])\n",
      "torch.Size([43044, 3]) torch.Size([43044])\n"
     ]
    }
   ],
   "source": [
    "block_size = 3\n",
    "\n",
    "def building_dataset(words):\n",
    "    X, Y = [], []\n",
    "    for w in words:\n",
    "        context = [0] * block_size\n",
    "        for ch in w + '.':\n",
    "            ix = stoi[ch]\n",
    "            X.append(context)\n",
    "            Y.append(ix)\n",
    "            context = context[1:] + [ix]\n",
    "\n",
    "    X = torch.tensor(X)\n",
    "    Y = torch.tensor(Y)\n",
    "    print(X.shape, Y.shape)\n",
    "    return X, Y\n",
    "\n",
    "random.seed(42)\n",
    "random.shuffle(words)\n",
    "n1 = int(0.8 * len(words))\n",
    "n2 = int(0.9 * len(words))\n",
    "\n",
    "Xtr, Ytr = building_dataset(words[:n1])\n",
    "Xdev, Ydev = building_dataset(words[n1:n2])\n",
    "Xte,  Yte  = building_dataset(words[n2:])"
   ]
  },
  {
   "cell_type": "code",
   "execution_count": 16,
   "id": "7e2f35fc",
   "metadata": {},
   "outputs": [
    {
     "name": "stdout",
     "output_type": "stream",
     "text": [
      "33858\n"
     ]
    }
   ],
   "source": [
    "# setting up all the hyperparameters\n",
    "num_emb = 10  # number of embedins\n",
    "num_hidden = 300 # number of hidde neurons\n",
    "\n",
    "g = torch.Generator().manual_seed(2147483647) # for reproducibility\n",
    "C = torch.randn(vocab_size, num_emb, generator = g)\n",
    "W1 = torch.randn((num_emb * block_size), num_hidden, generator = g) * (5/3) / (num_emb * block_size)**0.5\n",
    "W2 = torch.randn(num_hidden, vocab_size, generator = g) * 0.01\n",
    "b2 = torch.randn(vocab_size, generator = g) * 0.01\n",
    "\n",
    "# batch norm parameters\n",
    "bngain = torch.ones((1, num_hidden))\n",
    "bnbias = torch.zeros((1, num_hidden))\n",
    "bnmean_running = torch.zeros((1, num_hidden))\n",
    "bnstd_running = torch.ones((1, num_hidden))\n",
    "\n",
    "parameters = [C, W1, W2 , b2, bngain, bnbias]\n",
    "for p in parameters:\n",
    "    p.requires_grad = True\n",
    "print(sum(p.nelement() for p in parameters))"
   ]
  },
  {
   "cell_type": "code",
   "execution_count": 17,
   "id": "7f6f279d",
   "metadata": {},
   "outputs": [
    {
     "name": "stdout",
     "output_type": "stream",
     "text": [
      "      0/  20000: 4.297331\n",
      "   1000/  20000: 3.174091\n",
      "   2000/  20000: 4.292986\n",
      "   3000/  20000: 4.930440\n",
      "   4000/  20000: 2.342440\n",
      "   5000/  20000: 3.043882\n",
      "   6000/  20000: 2.557816\n",
      "   7000/  20000: 3.527438\n",
      "   8000/  20000: 3.943960\n",
      "   9000/  20000: 5.078980\n",
      "  10000/  20000: 4.336607\n",
      "  11000/  20000: 3.444632\n",
      "  12000/  20000: 3.739810\n",
      "  13000/  20000: 3.736296\n",
      "  14000/  20000: 2.894144\n",
      "  15000/  20000: 4.431051\n",
      "  16000/  20000: 2.284151\n",
      "  17000/  20000: 3.564610\n",
      "  18000/  20000: 3.602532\n",
      "  19000/  20000: 3.243625\n"
     ]
    }
   ],
   "source": [
    "max_steps = 20000\n",
    "batch_size = 32\n",
    "lossi = []\n",
    "\n",
    "for i in range(max_steps):\n",
    "    # mini-batch constrsuct\n",
    "    ix = torch.randint(0, Xtr.shape[0], (block_size, ), generator = g)\n",
    "    Xb, Yb = Xtr[ix], Ytr[ix]\n",
    "\n",
    "    # forward pass\n",
    "    emb = C[Xb] # getting the embeddings in a tensor form\n",
    "    embcat = emb.view(emb.shape[0], -1) # concatenating the vectors\n",
    "    # linear layer\n",
    "    hpreact = embcat @ W1 # hidden layer preactivation\n",
    "\n",
    "    # batch normalization\n",
    "    bnmean = hpreact.mean(0, keepdim=True)\n",
    "    bnstd  = hpreact.std(0, keepdim=True)\n",
    "    hpreact = bngain * (hpreact - bnmean) / bnstd + bnbias # bngain * (hpreact - bnmeani) / bnstdi + bnbias\n",
    "    with torch.no_grad():\n",
    "        bnmean_running = 0.99 * bnmean_running  + 0.001 * bnmean\n",
    "        bnstd_running = 0.99 * bnstd_running + 0.001 * bnstd\n",
    "\n",
    "    # Non linear layer\n",
    "    h = torch.tanh(hpreact) # hidden layer\n",
    "    logits = h @ W2 + b2\n",
    "    loss = F.cross_entropy(logits, Yb)\n",
    "\n",
    "    # backpass\n",
    "    for p in parameters:\n",
    "        p.grad = None\n",
    "    loss.backward()\n",
    "\n",
    "    # update\n",
    "    lr = 0.01 if i < 1050 else 0.0001\n",
    "    for p in parameters:\n",
    "        p.data += -lr * p.grad\n",
    "\n",
    "    # stats\n",
    "    if i % 1000 == 0:\n",
    "        print(f'{i:7d}/{max_steps:7d}: {loss.item():4f}')\n",
    "    lossi.append(loss.log10().item())"
   ]
  },
  {
   "cell_type": "code",
   "execution_count": 18,
   "id": "3e8d3552",
   "metadata": {},
   "outputs": [
    {
     "data": {
      "image/png": "[encoded data removed]",
      "text/plain": [
       "<Figure size 1200x500 with 2 Axes>"
      ]
     },
     "metadata": {},
     "output_type": "display_data"
    }
   ],
   "source": [
    "figs, ax = plt.subplots(1,2, figsize = (12, 5))\n",
    "ax[0].hist(h.view(-1).tolist(), 50);\n",
    "ax[0].set_title('h')\n",
    "ax[1].hist(hpreact.view(-1).tolist(), 50);\n",
    "ax[1].set_title('hpreact')\n",
    "plt.show()"
   ]
  },
  {
   "cell_type": "code",
   "execution_count": 20,
   "id": "c0212790",
   "metadata": {},
   "outputs": [
    {
     "data": {
      "text/plain": [
       "[<matplotlib.lines.Line2D at 0x20061534cd0>]"
      ]
     },
     "execution_count": 20,
     "metadata": {},
     "output_type": "execute_result"
    },
    {
     "data": {
      "image/png": "[encoded data removed]",
      "text/plain": [
       "<Figure size 640x480 with 1 Axes>"
      ]
     },
     "metadata": {},
     "output_type": "display_data"
    }
   ],
   "source": [
    "plt.plot(lossi)"
   ]
  },
  {
   "cell_type": "code",
   "execution_count": 21,
   "id": "0d892c82",
   "metadata": {},
   "outputs": [],
   "source": [
    "#calibrating the norm at the end of the training\n",
    "with torch.no_grad():\n",
    "    emb = C[Xtr]\n",
    "    embcat = emb.view(emb.shape[0], -1)\n",
    "    hpreact = embcat @ W1\n",
    "    # measure the std and the mean over all the training set\n",
    "    bnmean = hpreact.mean(0, keepdim=True)\n",
    "    bnstd  = hpreact.std(0, keepdim=True)"
   ]
  },
  {
   "cell_type": "code",
   "execution_count": 23,
   "id": "4f0b94c1",
   "metadata": {},
   "outputs": [
    {
     "name": "stdout",
     "output_type": "stream",
     "text": [
      "train 3.4789304733276367\n",
      "test 3.4781527519226074\n"
     ]
    }
   ],
   "source": [
    "@torch.no_grad() # disabling the gradients\n",
    "def split_loss(split):\n",
    "    x, y = {\n",
    "        'train': (Xtr, Ytr),\n",
    "        'val': (Xdev, Ydev),\n",
    "        'test': (Xte, Yte),\n",
    "    }[split]\n",
    "    emb = C[x]\n",
    "    embcat = emb.view(emb.shape[0], -1)\n",
    "    hpreact = embcat @ W1\n",
    "    hpreact = bngain * (hpreact - bnmean_running) / bnstd_running + bnbias\n",
    "    h = torch.tanh(hpreact)\n",
    "    logits = h @ W2 + b2\n",
    "    loss = F.cross_entropy(logits, y)\n",
    "    print(split, loss.item())\n",
    "\n",
    "split_loss('train')\n",
    "split_loss('test')"
   ]
  }
 ],
 "metadata": {
  "kernelspec": {
   "display_name": "Python 3 (ipykernel)",
   "language": "python",
   "name": "python3"
  },
  "language_info": {
   "codemirror_mode": {
    "name": "ipython",
    "version": 3
   },
   "file_extension": ".py",
   "mimetype": "text/x-python",
   "name": "python",
   "nbconvert_exporter": "python",
   "pygments_lexer": "ipython3",
   "version": "3.9.13"
  }
 },
 "nbformat": 4,
 "nbformat_minor": 5
}
